{
 "cells": [
  {
   "cell_type": "code",
   "execution_count": 2,
   "id": "ec52dbc2-007b-483a-be80-e041e2eb5538",
   "metadata": {},
   "outputs": [
    {
     "name": "stdout",
     "output_type": "stream",
     "text": [
      "Defaulting to user installation because normal site-packages is not writeable\n",
      "Collecting pulp\n",
      "  Downloading pulp-3.2.1-py3-none-any.whl.metadata (6.9 kB)\n",
      "Downloading pulp-3.2.1-py3-none-any.whl (16.4 MB)\n",
      "   ---------------------------------------- 0.0/16.4 MB ? eta -:--:--\n",
      "   ---- ----------------------------------- 1.8/16.4 MB 14.3 MB/s eta 0:00:02\n",
      "   -------- ------------------------------- 3.7/16.4 MB 10.4 MB/s eta 0:00:02\n",
      "   ---------- ----------------------------- 4.5/16.4 MB 8.4 MB/s eta 0:00:02\n",
      "   ----------- ---------------------------- 4.7/16.4 MB 7.1 MB/s eta 0:00:02\n",
      "   ------------ --------------------------- 5.0/16.4 MB 5.4 MB/s eta 0:00:03\n",
      "   ------------ --------------------------- 5.2/16.4 MB 4.2 MB/s eta 0:00:03\n",
      "   ------------ --------------------------- 5.2/16.4 MB 4.2 MB/s eta 0:00:03\n",
      "   ------------- -------------------------- 5.5/16.4 MB 3.6 MB/s eta 0:00:04\n",
      "   -------------- ------------------------- 5.8/16.4 MB 3.3 MB/s eta 0:00:04\n",
      "   -------------- ------------------------- 6.0/16.4 MB 3.0 MB/s eta 0:00:04\n",
      "   --------------- ------------------------ 6.3/16.4 MB 2.8 MB/s eta 0:00:04\n",
      "   ---------------- ----------------------- 6.8/16.4 MB 2.7 MB/s eta 0:00:04\n",
      "   ----------------- ---------------------- 7.1/16.4 MB 2.6 MB/s eta 0:00:04\n",
      "   ----------------- ---------------------- 7.3/16.4 MB 2.5 MB/s eta 0:00:04\n",
      "   ------------------- -------------------- 7.9/16.4 MB 2.5 MB/s eta 0:00:04\n",
      "   ------------------- -------------------- 8.1/16.4 MB 2.5 MB/s eta 0:00:04\n",
      "   --------------------- ------------------ 8.7/16.4 MB 2.4 MB/s eta 0:00:04\n",
      "   ---------------------- ----------------- 9.2/16.4 MB 2.4 MB/s eta 0:00:03\n",
      "   ------------------------ --------------- 10.0/16.4 MB 2.4 MB/s eta 0:00:03\n",
      "   ------------------------ --------------- 10.2/16.4 MB 2.4 MB/s eta 0:00:03\n",
      "   -------------------------- ------------- 11.0/16.4 MB 2.4 MB/s eta 0:00:03\n",
      "   ---------------------------- ----------- 11.5/16.4 MB 2.4 MB/s eta 0:00:02\n",
      "   ---------------------------- ----------- 11.8/16.4 MB 2.4 MB/s eta 0:00:02\n",
      "   ------------------------------ --------- 12.3/16.4 MB 2.4 MB/s eta 0:00:02\n",
      "   ------------------------------- -------- 12.8/16.4 MB 2.4 MB/s eta 0:00:02\n",
      "   --------------------------------- ------ 13.9/16.4 MB 2.5 MB/s eta 0:00:02\n",
      "   ----------------------------------- ---- 14.4/16.4 MB 2.5 MB/s eta 0:00:01\n",
      "   ------------------------------------ --- 14.9/16.4 MB 2.5 MB/s eta 0:00:01\n",
      "   ------------------------------------- -- 15.5/16.4 MB 2.5 MB/s eta 0:00:01\n",
      "   ---------------------------------------  16.3/16.4 MB 2.5 MB/s eta 0:00:01\n",
      "   ---------------------------------------- 16.4/16.4 MB 2.5 MB/s eta 0:00:00\n",
      "Installing collected packages: pulp\n",
      "Successfully installed pulp-3.2.1\n"
     ]
    },
    {
     "name": "stderr",
     "output_type": "stream",
     "text": [
      "  WARNING: The script pulptest.exe is installed in 'C:\\Users\\pavan\\AppData\\Roaming\\Python\\Python312\\Scripts' which is not on PATH.\n",
      "  Consider adding this directory to PATH or, if you prefer to suppress this warning, use --no-warn-script-location.\n"
     ]
    }
   ],
   "source": [
    "!pip install pulp\n"
   ]
  },
  {
   "cell_type": "code",
   "execution_count": 3,
   "id": "77940dfc-50a4-4974-b9af-c068ec0e37ec",
   "metadata": {},
   "outputs": [],
   "source": [
    "# 1. Import libraries\n",
    "from pulp import LpProblem, LpVariable, LpMaximize, lpSum, LpInteger, value, LpStatus\n"
   ]
  },
  {
   "cell_type": "code",
   "execution_count": 4,
   "id": "a517bc16-affa-4cd9-8bb2-9c751e0b991b",
   "metadata": {},
   "outputs": [],
   "source": [
    "# 2. Define the optimization model\n",
    "model = LpProblem(\"Warehouse_Profit_Maximization\", LpMaximize)\n",
    "\n",
    "# Decision variables (number of units to stock/sell)\n",
    "x1 = LpVariable(\"Eco_friendly_Gadgets\", 0, 40, LpInteger)\n",
    "x2 = LpVariable(\"Home_Decor_Items\", 0, 50, LpInteger)\n",
    "x3 = LpVariable(\"Fitness_Accessories\", 0, 60, LpInteger)\n",
    "\n",
    "# Objective function: Maximize profit\n",
    "model += 30*x1 + 22*x2 + 18*x3, \"Total_Profit\"\n",
    "\n",
    "# Constraints\n",
    "model += 2*x1 + 3*x2 + 1.5*x3 <= 150, \"Warehouse_Space\"\n",
    "model += 10*x1 + 8*x2 + 6*x3 <= 480, \"Labor_Time\"\n",
    "model += x1 + x2 + x3 <= 80, \"Delivery_Quota\"\n"
   ]
  },
  {
   "cell_type": "code",
   "execution_count": 5,
   "id": "00e8bb3c-6a20-4d9c-b2be-df23d82951e5",
   "metadata": {},
   "outputs": [
    {
     "data": {
      "text/plain": [
       "1"
      ]
     },
     "execution_count": 5,
     "metadata": {},
     "output_type": "execute_result"
    }
   ],
   "source": [
    "# 3. Solve the model\n",
    "model.solve()\n",
    "\n"
   ]
  },
  {
   "cell_type": "code",
   "execution_count": 6,
   "id": "a3ece5ab-ed4e-413d-8937-04f5777c8d8f",
   "metadata": {},
   "outputs": [
    {
     "name": "stdout",
     "output_type": "stream",
     "text": [
      "Status: Optimal\n",
      "Optimal daily plan:\n",
      "  Eco-friendly Gadgets: 12\n",
      "  Home Decor Items: 0\n",
      "  Fitness Accessories: 60\n",
      "Maximum Profit: $1440.00\n"
     ]
    }
   ],
   "source": [
    "# 4. Display results\n",
    "print(f\"Status: {LpStatus[model.status]}\")\n",
    "print(\"Optimal daily plan:\")\n",
    "print(f\"  Eco-friendly Gadgets: {int(x1.value())}\")\n",
    "print(f\"  Home Decor Items: {int(x2.value())}\")\n",
    "print(f\"  Fitness Accessories: {int(x3.value())}\")\n",
    "print(f\"Maximum Profit: ${value(model.objective):.2f}\")\n"
   ]
  },
  {
   "cell_type": "code",
   "execution_count": null,
   "id": "312fc48f-0679-4a23-b1a6-4bd69059c1cb",
   "metadata": {},
   "outputs": [],
   "source": []
  }
 ],
 "metadata": {
  "kernelspec": {
   "display_name": "Python 3 (ipykernel)",
   "language": "python",
   "name": "python3"
  },
  "language_info": {
   "codemirror_mode": {
    "name": "ipython",
    "version": 3
   },
   "file_extension": ".py",
   "mimetype": "text/x-python",
   "name": "python",
   "nbconvert_exporter": "python",
   "pygments_lexer": "ipython3",
   "version": "3.12.7"
  }
 },
 "nbformat": 4,
 "nbformat_minor": 5
}
